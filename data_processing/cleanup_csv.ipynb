{
 "cells": [
  {
   "cell_type": "markdown",
   "metadata": {},
   "source": [
    "## read csv"
   ]
  },
  {
   "cell_type": "code",
   "execution_count": 1,
   "metadata": {},
   "outputs": [],
   "source": [
    "import pandas as pd\n",
    "import csv\n",
    "path = 'field_of_study_exercise.csv'"
   ]
  },
  {
   "cell_type": "code",
   "execution_count": 2,
   "metadata": {},
   "outputs": [
    {
     "data": {
      "text/html": [
       "<div>\n",
       "<style scoped>\n",
       "    .dataframe tbody tr th:only-of-type {\n",
       "        vertical-align: middle;\n",
       "    }\n",
       "\n",
       "    .dataframe tbody tr th {\n",
       "        vertical-align: top;\n",
       "    }\n",
       "\n",
       "    .dataframe thead th {\n",
       "        text-align: right;\n",
       "    }\n",
       "</style>\n",
       "<table border=\"1\" class=\"dataframe\">\n",
       "  <thead>\n",
       "    <tr style=\"text-align: right;\">\n",
       "      <th></th>\n",
       "      <th>level</th>\n",
       "      <th>level_name</th>\n",
       "      <th>field_of_study</th>\n",
       "      <th>academic_field</th>\n",
       "    </tr>\n",
       "  </thead>\n",
       "  <tbody>\n",
       "    <tr>\n",
       "      <th>0</th>\n",
       "      <td>NaN</td>\n",
       "      <td>NaN</td>\n",
       "      <td>-, Marketing/Marketing Management, General</td>\n",
       "      <td>marketing</td>\n",
       "    </tr>\n",
       "    <tr>\n",
       "      <th>1</th>\n",
       "      <td>NaN</td>\n",
       "      <td>NaN</td>\n",
       "      <td>“Wellness Counseling Certificate”</td>\n",
       "      <td>NaN</td>\n",
       "    </tr>\n",
       "    <tr>\n",
       "      <th>2</th>\n",
       "      <td>NaN</td>\n",
       "      <td>NaN</td>\n",
       "      <td>(BA) Hons Fashion, Fashion/Apparel Design</td>\n",
       "      <td>NaN</td>\n",
       "    </tr>\n",
       "    <tr>\n",
       "      <th>3</th>\n",
       "      <td>NaN</td>\n",
       "      <td>NaN</td>\n",
       "      <td>(BA) Liberal Arts, Liberal Arts and Sciences/L...</td>\n",
       "      <td>NaN</td>\n",
       "    </tr>\n",
       "    <tr>\n",
       "      <th>4</th>\n",
       "      <td>NaN</td>\n",
       "      <td>NaN</td>\n",
       "      <td>* Career certificate of Marketing.</td>\n",
       "      <td>NaN</td>\n",
       "    </tr>\n",
       "    <tr>\n",
       "      <th>5</th>\n",
       "      <td>NaN</td>\n",
       "      <td>NaN</td>\n",
       "      <td>1st Class Honour, Information System and Compu...</td>\n",
       "      <td>NaN</td>\n",
       "    </tr>\n",
       "    <tr>\n",
       "      <th>6</th>\n",
       "      <td>NaN</td>\n",
       "      <td>NaN</td>\n",
       "      <td>2:1, Business Management</td>\n",
       "      <td>business management</td>\n",
       "    </tr>\n",
       "    <tr>\n",
       "      <th>7</th>\n",
       "      <td>NaN</td>\n",
       "      <td>NaN</td>\n",
       "      <td>2:1, French and Hispanic Studies</td>\n",
       "      <td>NaN</td>\n",
       "    </tr>\n",
       "    <tr>\n",
       "      <th>8</th>\n",
       "      <td>NaN</td>\n",
       "      <td>NaN</td>\n",
       "      <td>2.1, Graphic Design and Illustration</td>\n",
       "      <td>NaN</td>\n",
       "    </tr>\n",
       "    <tr>\n",
       "      <th>9</th>\n",
       "      <td>NaN</td>\n",
       "      <td>NaN</td>\n",
       "      <td>2.1, Management</td>\n",
       "      <td>NaN</td>\n",
       "    </tr>\n",
       "  </tbody>\n",
       "</table>\n",
       "</div>"
      ],
      "text/plain": [
       "  level level_name                                     field_of_study  \\\n",
       "0   NaN        NaN         -, Marketing/Marketing Management, General   \n",
       "1   NaN        NaN                  “Wellness Counseling Certificate”   \n",
       "2   NaN        NaN          (BA) Hons Fashion, Fashion/Apparel Design   \n",
       "3   NaN        NaN  (BA) Liberal Arts, Liberal Arts and Sciences/L...   \n",
       "4   NaN        NaN                 * Career certificate of Marketing.   \n",
       "5   NaN        NaN  1st Class Honour, Information System and Compu...   \n",
       "6   NaN        NaN                           2:1, Business Management   \n",
       "7   NaN        NaN                   2:1, French and Hispanic Studies   \n",
       "8   NaN        NaN               2.1, Graphic Design and Illustration   \n",
       "9   NaN        NaN                                    2.1, Management   \n",
       "\n",
       "        academic_field  \n",
       "0            marketing  \n",
       "1                  NaN  \n",
       "2                  NaN  \n",
       "3                  NaN  \n",
       "4                  NaN  \n",
       "5                  NaN  \n",
       "6  business management  \n",
       "7                  NaN  \n",
       "8                  NaN  \n",
       "9                  NaN  "
      ]
     },
     "execution_count": 2,
     "metadata": {},
     "output_type": "execute_result"
    }
   ],
   "source": [
    "data = pd.read_csv(path)\n",
    "data.head(10)"
   ]
  },
  {
   "cell_type": "markdown",
   "metadata": {},
   "source": [
    "## Data processing"
   ]
  },
  {
   "cell_type": "markdown",
   "metadata": {},
   "source": [
    "### Remove duplicate rows:"
   ]
  },
  {
   "cell_type": "code",
   "execution_count": 3,
   "metadata": {},
   "outputs": [
    {
     "name": "stdout",
     "output_type": "stream",
     "text": [
      "<class 'pandas.core.frame.DataFrame'>\n",
      "Int64Index: 375 entries, 0 to 374\n",
      "Data columns (total 4 columns):\n",
      " #   Column          Non-Null Count  Dtype \n",
      "---  ------          --------------  ----- \n",
      " 0   level           322 non-null    object\n",
      " 1   level_name      312 non-null    object\n",
      " 2   field_of_study  375 non-null    object\n",
      " 3   academic_field  141 non-null    object\n",
      "dtypes: object(4)\n",
      "memory usage: 14.6+ KB\n"
     ]
    }
   ],
   "source": [
    "duplicated_record = data.duplicated().sum()\n",
    "data.drop_duplicates(inplace=True) \n",
    "data.info()"
   ]
  },
  {
   "cell_type": "markdown",
   "metadata": {},
   "source": [
    "### Validate Missing Values:"
   ]
  },
  {
   "cell_type": "code",
   "execution_count": 4,
   "metadata": {},
   "outputs": [
    {
     "name": "stdout",
     "output_type": "stream",
     "text": [
      "<class 'pandas.core.frame.DataFrame'>\n",
      "Int64Index: 375 entries, 0 to 374\n",
      "Data columns (total 4 columns):\n",
      " #   Column          Non-Null Count  Dtype \n",
      "---  ------          --------------  ----- \n",
      " 0   level           322 non-null    object\n",
      " 1   level_name      312 non-null    object\n",
      " 2   field_of_study  375 non-null    object\n",
      " 3   academic_field  141 non-null    object\n",
      "dtypes: object(4)\n",
      "memory usage: 14.6+ KB\n",
      " -- null count:\n",
      "level              53\n",
      "level_name         63\n",
      "field_of_study      0\n",
      "academic_field    234\n",
      "dtype: int64\n",
      " -- null ratios:\n",
      "level             0.141333\n",
      "level_name        0.168000\n",
      "field_of_study    0.000000\n",
      "academic_field    0.624000\n",
      "dtype: float64\n"
     ]
    }
   ],
   "source": [
    "data.info()\n",
    "null_counts = data.isnull()\n",
    "print(\" -- null count:\\n{}\".format(null_counts.sum()))\n",
    "print(\" -- null ratios:\\n{}\".format(null_counts.mean()))"
   ]
  },
  {
   "cell_type": "markdown",
   "metadata": {},
   "source": [
    "When dealing with machine learning and a dataset that is both small and incomplete, filling in missing values (handling NA columns) is a necessary step to maximize the utility of the available data"
   ]
  },
  {
   "cell_type": "markdown",
   "metadata": {},
   "source": [
    "### Column Cleanup:"
   ]
  },
  {
   "cell_type": "code",
   "execution_count": 5,
   "metadata": {},
   "outputs": [
    {
     "name": "stdout",
     "output_type": "stream",
     "text": [
      "Index(['level', 'level_name', 'field_of_study', 'academic_field'], dtype='object')\n"
     ]
    }
   ],
   "source": [
    "# Clean column names\n",
    "cleaned_data = data.copy()\n",
    "cleaned_data.columns = cleaned_data.columns.str.strip()\n",
    "# Display cleaned column names\n",
    "print(data.columns)"
   ]
  },
  {
   "cell_type": "markdown",
   "metadata": {},
   "source": [
    "### Data Type Conversion:"
   ]
  },
  {
   "cell_type": "code",
   "execution_count": 6,
   "metadata": {},
   "outputs": [],
   "source": [
    "for column in cleaned_data.columns:\n",
    "    cleaned_data[column]=cleaned_data[column].astype('str')"
   ]
  },
  {
   "cell_type": "markdown",
   "metadata": {},
   "source": [
    "### Remove or Replace Unwanted Characters:"
   ]
  },
  {
   "cell_type": "code",
   "execution_count": 7,
   "metadata": {},
   "outputs": [
    {
     "name": "stdout",
     "output_type": "stream",
     "text": [
      "Special characters:\n",
      "['\"', '#', '&', \"'\", '(', ')', '*', '+', ',', '-', '.', '/', ':', ';', ']', '’', '“', '”']\n"
     ]
    }
   ],
   "source": [
    "import re\n",
    "# Define a regular expression to remove special characters\n",
    "pattern = r'[^\\w\\s]'  # Matches characters that are not alphanumeric or whitespace\n",
    "# Create an empty dictionary to store column-wise special characters\n",
    "special_chars = set()\n",
    "# Iterate through each column in the DataFrame\n",
    "for col in cleaned_data.columns:\n",
    "    # Iterate through each element in the column\n",
    "    for element in data[col].values:\n",
    "        # Find all special characters using the regular expression\n",
    "        matches = re.findall(pattern, str(element))\n",
    "        # Add unique characters to the set\n",
    "        special_chars.update(matches)\n",
    "\n",
    "# Print the dictionary showing special characters by column\n",
    "print(\"Special characters:\")\n",
    "print(f\"{sorted(special_chars)}\")"
   ]
  },
  {
   "cell_type": "code",
   "execution_count": 8,
   "metadata": {},
   "outputs": [],
   "source": [
    "\n",
    "mapping_specific_pattern ={\n",
    "    '&': 'and',\n",
    "}\n",
    "\n",
    "mapping_pattern_based_on_knowledge ={\n",
    "    'b a': 'ba',\n",
    "    'b sc': 'bsc',\n",
    "    'b e':'be',\n",
    "    'b eng': 'beng',\n",
    "    'b s e': 'bse',\n",
    "    'b s': 'bs',\n",
    "    'bba':'',\n",
    "    'honours': 'hons',\n",
    "    'bachelor degree in':'bachelor',\n",
    "    'bachelor degree':'bachelor',\n",
    "    'bachelor in':'bachelor',\n",
    "    'bachelor of':'bachelor',\n",
    "    'bachelor hons in': 'bachelor hons'\n",
    "}\n",
    "# Function to replace substrings regardless of case sensitivity\n",
    "def replace_substrings(string, replacements):\n",
    "    pattern = re.compile('|'.join(re.escape(key) for key in replacements.keys()),flags=re.IGNORECASE)\n",
    "    return pattern.sub(lambda match: replacements[match.group(0).lower()], string)\n",
    "# Function to clean each entry\n",
    "def clean_data(field):\n",
    "    # Split the field by ','\n",
    "    fields = field.split(',')\n",
    "    # convert to lower case\n",
    "    cleaned_fields = [f.lower() for f in fields] \n",
    "    # replace special cases:\n",
    "    cleaned_fields = [replace_substrings(s, mapping_specific_pattern) for s in fields]\n",
    "    # Clean each split value\n",
    "    cleaned_fields = [re.sub(r'\\W+', ' ', f).strip() for f in cleaned_fields] # Remove punctuation\n",
    "    # Remove empty fields and lower case\n",
    "    cleaned_fields = [f.lower() for f in cleaned_fields if f] \n",
    "    # Join them back with ','\n",
    "    cleaned_text =  ','.join(cleaned_fields)\n",
    "    # Remove multiple spaces\n",
    "    cleaned_text = re.sub(r'\\s+', ' ', cleaned_text)\n",
    "    \n",
    "    return cleaned_text\n",
    "\n",
    "def mapping_data(field):\n",
    "    # Split the field by ','\n",
    "    fields = field.split(',')\n",
    "    # mapping specific patterns:\n",
    "    cleaned_fields = [replace_substrings(s, mapping_pattern_based_on_knowledge) for s in fields]\n",
    "    # Join them back with ','\n",
    "    cleaned_text =  ','.join(cleaned_fields)\n",
    "    return cleaned_text\n",
    "\n",
    "cleaned_data['field_of_study'] = cleaned_data['field_of_study'].apply(clean_data)\n",
    "before_mapping = cleaned_data.copy()\n",
    "cleaned_data['field_of_study'] = cleaned_data['field_of_study'].apply(mapping_data)\n",
    "cleaned_data['academic_field'] = cleaned_data['academic_field'].apply(clean_data)\n",
    "cleaned_data['level'] = cleaned_data['level'].apply(clean_data)\n",
    "cleaned_data['level_name'] = cleaned_data['level_name'].apply(clean_data)\n",
    "cleaned_data.replace(\"nan\", pd.NA, inplace=True)"
   ]
  },
  {
   "cell_type": "code",
   "execution_count": 9,
   "metadata": {},
   "outputs": [],
   "source": [
    "complete_data = cleaned_data.dropna()\n",
    "complete_data.to_csv('complete_data.csv',index=False,quoting=csv.QUOTE_ALL)"
   ]
  },
  {
   "cell_type": "markdown",
   "metadata": {},
   "source": [
    "### Validate and Standardize Values:"
   ]
  },
  {
   "cell_type": "markdown",
   "metadata": {},
   "source": [
    "#### K-Nearest Neighbors (KNN) imputation"
   ]
  },
  {
   "cell_type": "code",
   "execution_count": 10,
   "metadata": {},
   "outputs": [],
   "source": [
    "from sklearn.impute import KNNImputer\n",
    "from sklearn.preprocessing import LabelEncoder\n",
    "from sklearn.feature_extraction.text import TfidfVectorizer\n",
    "\n",
    "knn_data=cleaned_data.copy()\n",
    "# Introducing a missing value in 'academic_field' column\n",
    "knn_data.loc[2, 'academic_field'] = None\n",
    "# Encode the 'academic_field' column\n",
    "label_encoder = LabelEncoder()\n",
    "knn_data['academic_field_encoded'] = label_encoder.fit_transform(knn_data['academic_field'].astype(str))\n",
    "knn_data['academic_field_encoded_feature_exatraction'] = label_encoder.fit_transform(knn_data['academic_field'].astype(str))\n",
    "\n",
    "# TF-IDF Vectorization\n",
    "tfidf_vectorizer = TfidfVectorizer(tokenizer=lambda x: x.split(','))\n",
    "tfidf_matrix = tfidf_vectorizer.fit_transform(knn_data['field_of_study'])\n",
    "\n",
    "# Prepare feature matrix with TF-IDF features\n",
    "feature_matrix = pd.DataFrame(tfidf_matrix.toarray(), columns=tfidf_vectorizer.get_feature_names_out())\n",
    "feature_matrix['academic_field_encoded_feature_exatraction'] = knn_data['academic_field_encoded_feature_exatraction']\n",
    "\n",
    "# Prepare the feature matrix\n",
    "data_encoded = pd.get_dummies(knn_data['field_of_study'])\n",
    "data_encoded['academic_field_encoded'] = knn_data['academic_field_encoded']\n",
    "\n",
    "\n",
    "data_encoded = pd.concat([data_encoded, feature_matrix], axis=1)\n",
    "# Impute missing values using KNNImputer\n",
    "imputer = KNNImputer(n_neighbors=20) \n",
    "data_imputed = imputer.fit_transform(data_encoded)\n",
    "\n",
    "# Decode the 'academic_field' column back to original labels\n",
    "knn_data['academic_field_imputed'] = label_encoder.inverse_transform(data_imputed[:, -1].round().astype(int))\n",
    "\n",
    "knn_data.drop(['academic_field_encoded','academic_field_encoded_feature_exatraction'], axis=1, inplace=True)\n",
    "knn_data.to_csv('knn_data.csv',index=False,quoting=csv.QUOTE_ALL)"
   ]
  },
  {
   "cell_type": "markdown",
   "metadata": {},
   "source": [
    "As a result, the data from the CSV file still does not contain enough records for some basic ML models to handle the missing data. Manual filling may be necessary."
   ]
  },
  {
   "cell_type": "markdown",
   "metadata": {},
   "source": [
    "# SUMMARY:"
   ]
  },
  {
   "cell_type": "code",
   "execution_count": 11,
   "metadata": {},
   "outputs": [
    {
     "name": "stdout",
     "output_type": "stream",
     "text": [
      "\n",
      "## Introduction\n",
      "This report summarizes the data cleaning process for the academic category. \n",
      "The primary goal was to ensure data quality by removing inconsistencies, handling missing values, and standardizing formats.\n",
      "      \n",
      "## Data Overview\n",
      "\n",
      "Initial number of records: 375\n",
      "Initial number of columns: 4\n",
      "\n",
      "\n",
      "## Data Cleaning Steps\n",
      "\n",
      " -- null count:\n",
      "level              53\n",
      "level_name         63\n",
      "field_of_study      0\n",
      "academic_field    234\n",
      "dtype: int64\n",
      " -- null ratios:\n",
      "level             0.141333\n",
      "level_name        0.168000\n",
      "field_of_study    0.000000\n",
      "academic_field    0.624000\n",
      "dtype: float64\n",
      "duplicated records: 0\n",
      "\n",
      "### Handling Missing Values:\n",
      "\n",
      "Records removed due to missing values: 252\n",
      "Remaining Records: 123\n",
      "\n",
      "### Standardization\n",
      "\n",
      "Convert all column names to lower case:\n",
      "original_columns: ['level', 'level_name', 'field_of_study', 'academic_field']\n",
      "output columns: ['level', 'level_name', 'field_of_study', 'academic_field']\n",
      "\n",
      "### Data Mapping\n",
      "\n",
      "mapping ratio 'b a' to 'ba': 0.172\n",
      "mapping ratio 'b sc' to 'bsc': 0.923\n",
      "mapping ratio 'b e' to 'be': 0.5\n",
      "mapping ratio 'b eng' to 'beng': 1.0\n",
      "mapping ratio 'b s e' to 'bse': 1.0\n",
      "mapping ratio 'b s' to 'bs': 0.955\n",
      "mapping ratio 'bba' to '': 0.002\n",
      "mapping ratio 'honours' to 'hons': 0.317\n",
      "mapping ratio 'bachelor degree in' to 'bachelor': 0.014\n",
      "mapping ratio 'bachelor degree' to 'bachelor': 0.032\n",
      "mapping ratio 'bachelor in' to 'bachelor': 0.055\n",
      "mapping ratio 'bachelor of' to 'bachelor': 0.904\n",
      "mapping ratio 'bachelor hons in' to 'bachelor hons': 0.0\n",
      "\n",
      "\n",
      "## Cleaned Data Overview:\n",
      "\n",
      "Number of rows: 123 \n",
      "Columns: 4\n",
      "The first few rows:\n"
     ]
    },
    {
     "data": {
      "text/html": [
       "<div>\n",
       "<style scoped>\n",
       "    .dataframe tbody tr th:only-of-type {\n",
       "        vertical-align: middle;\n",
       "    }\n",
       "\n",
       "    .dataframe tbody tr th {\n",
       "        vertical-align: top;\n",
       "    }\n",
       "\n",
       "    .dataframe thead th {\n",
       "        text-align: right;\n",
       "    }\n",
       "</style>\n",
       "<table border=\"1\" class=\"dataframe\">\n",
       "  <thead>\n",
       "    <tr style=\"text-align: right;\">\n",
       "      <th></th>\n",
       "      <th>level</th>\n",
       "      <th>level_name</th>\n",
       "      <th>field_of_study</th>\n",
       "      <th>academic_field</th>\n",
       "    </tr>\n",
       "  </thead>\n",
       "  <tbody>\n",
       "    <tr>\n",
       "      <th>64</th>\n",
       "      <td>bachelor</td>\n",
       "      <td>bachelor</td>\n",
       "      <td>b communications public relations,marketing</td>\n",
       "      <td>marketing</td>\n",
       "    </tr>\n",
       "    <tr>\n",
       "      <th>65</th>\n",
       "      <td>bachelor</td>\n",
       "      <td>bachelor</td>\n",
       "      <td>bsc,chemistry general</td>\n",
       "      <td>chemistry</td>\n",
       "    </tr>\n",
       "    <tr>\n",
       "      <th>69</th>\n",
       "      <td>bachelor</td>\n",
       "      <td>bachelor</td>\n",
       "      <td>beng,electrical engineering</td>\n",
       "      <td>electrical engineering</td>\n",
       "    </tr>\n",
       "    <tr>\n",
       "      <th>70</th>\n",
       "      <td>bachelor</td>\n",
       "      <td>bachelor</td>\n",
       "      <td>bsc,computer science networking techniques and...</td>\n",
       "      <td>computer science</td>\n",
       "    </tr>\n",
       "    <tr>\n",
       "      <th>72</th>\n",
       "      <td>bachelor</td>\n",
       "      <td>bachelor</td>\n",
       "      <td>ba 2nd upper class hons,history</td>\n",
       "      <td>history</td>\n",
       "    </tr>\n",
       "    <tr>\n",
       "      <th>75</th>\n",
       "      <td>bachelor</td>\n",
       "      <td>bachelor</td>\n",
       "      <td>ba hons 2nd upper,english literature</td>\n",
       "      <td>english literature</td>\n",
       "    </tr>\n",
       "    <tr>\n",
       "      <th>79</th>\n",
       "      <td>bachelor</td>\n",
       "      <td>bachelor</td>\n",
       "      <td>ba,computer science</td>\n",
       "      <td>computer science</td>\n",
       "    </tr>\n",
       "    <tr>\n",
       "      <th>87</th>\n",
       "      <td>bachelor</td>\n",
       "      <td>bachelor</td>\n",
       "      <td>be,computer science</td>\n",
       "      <td>computer science</td>\n",
       "    </tr>\n",
       "    <tr>\n",
       "      <th>89</th>\n",
       "      <td>bachelor</td>\n",
       "      <td>bachelor</td>\n",
       "      <td>be cs,computer science</td>\n",
       "      <td>computer science</td>\n",
       "    </tr>\n",
       "    <tr>\n",
       "      <th>93</th>\n",
       "      <td>bachelor</td>\n",
       "      <td>bachelor</td>\n",
       "      <td>beng,electrical engineering</td>\n",
       "      <td>electrical engineering</td>\n",
       "    </tr>\n",
       "  </tbody>\n",
       "</table>\n",
       "</div>"
      ],
      "text/plain": [
       "       level level_name                                     field_of_study  \\\n",
       "64  bachelor   bachelor        b communications public relations,marketing   \n",
       "65  bachelor   bachelor                              bsc,chemistry general   \n",
       "69  bachelor   bachelor                        beng,electrical engineering   \n",
       "70  bachelor   bachelor  bsc,computer science networking techniques and...   \n",
       "72  bachelor   bachelor                    ba 2nd upper class hons,history   \n",
       "75  bachelor   bachelor               ba hons 2nd upper,english literature   \n",
       "79  bachelor   bachelor                                ba,computer science   \n",
       "87  bachelor   bachelor                                be,computer science   \n",
       "89  bachelor   bachelor                             be cs,computer science   \n",
       "93  bachelor   bachelor                        beng,electrical engineering   \n",
       "\n",
       "            academic_field  \n",
       "64               marketing  \n",
       "65               chemistry  \n",
       "69  electrical engineering  \n",
       "70        computer science  \n",
       "72                 history  \n",
       "75      english literature  \n",
       "79        computer science  \n",
       "87        computer science  \n",
       "89        computer science  \n",
       "93  electrical engineering  "
      ]
     },
     "execution_count": 11,
     "metadata": {},
     "output_type": "execute_result"
    }
   ],
   "source": [
    "print(\"\"\"\n",
    "## Introduction\n",
    "This report summarizes the data cleaning process for the academic category. \n",
    "The primary goal was to ensure data quality by removing inconsistencies, handling missing values, and standardizing formats.\n",
    "      \"\"\")\n",
    "\n",
    "print(\"## Data Overview\\n\")\n",
    "# Overview of the dataset\n",
    "initial_record_count = data.shape[0]\n",
    "initial_column_count = data.shape[1]\n",
    "\n",
    "print(f\"Initial number of records: {initial_record_count}\")\n",
    "print(f\"Initial number of columns: {initial_column_count}\")\n",
    "\n",
    "print(\"\\n\\n## Data Cleaning Steps\\n\")\n",
    "null_counts = data.isnull()\n",
    "print(\" -- null count:\\n{}\".format(null_counts.sum()))\n",
    "print(\" -- null ratios:\\n{}\".format(null_counts.mean()))\n",
    "print(f\"duplicated records: {duplicated_record}\")\n",
    "\n",
    "print(\"\\n### Handling Missing Values:\\n\")\n",
    "# Initial count of missing values\n",
    "missing_values_initial = data.isnull().sum().sum()\n",
    "records_removed_missing_values = initial_record_count - complete_data.shape[0]\n",
    "print(f\"Records removed due to missing values: {records_removed_missing_values}\")\n",
    "print(f\"Remaining Records: {complete_data.shape[0]}\")\n",
    "\n",
    "print(\"\\n### Standardization\\n\")\n",
    "\n",
    "#lower case the name of columns:\n",
    "original_column = [col for col in data.columns]\n",
    "lowercase_column = [col for col in complete_data.columns]\n",
    "print(\"Convert all column names to lower case:\")\n",
    "print(f\"original_columns: {original_column}\")\n",
    "print(f\"output columns: {lowercase_column}\")\n",
    "\n",
    "total_occurrences = []\n",
    "mapped_occurrences = []\n",
    "\n",
    "print(\"\\n### Data Mapping\\n\")\n",
    "for key in mapping_pattern_based_on_knowledge.keys():\n",
    "    count = sum(before_mapping['field_of_study'].str.count(re.escape(key), flags=re.IGNORECASE))\n",
    "    # print(f\"number of '{key}' occurrences:{total_occurrences}  \")\n",
    "    mapped_occurrences.append({key:count})\n",
    "for val in mapping_pattern_based_on_knowledge.values():\n",
    "        count = sum(cleaned_data['field_of_study'].str.count(re.escape(val), flags=re.IGNORECASE))\n",
    "        # print(f\"number of '{val}' occurrences:{total_occurrences}  \")\n",
    "        total_occurrences.append({val:count})\n",
    "\n",
    "for index, (key, value) in enumerate(mapping_pattern_based_on_knowledge.items()):\n",
    "    print(f\"mapping ratio '{key}' to '{value}': {round(mapped_occurrences[index].get(key)/total_occurrences[index].get(value),3)}\")\n",
    "\n",
    "\n",
    "print(\"\\n\\n## Cleaned Data Overview:\\n\")\n",
    "\n",
    "print(f\"Number of rows: {complete_data.shape[0]} \\nColumns: {complete_data.shape[1]}\")\n",
    "print(\"The first few rows:\")\n",
    "complete_data.head(10)"
   ]
  },
  {
   "cell_type": "code",
   "execution_count": 12,
   "metadata": {},
   "outputs": [
    {
     "name": "stdout",
     "output_type": "stream",
     "text": [
      "data type of each columns:\n"
     ]
    },
    {
     "data": {
      "text/plain": [
       "level             object\n",
       "level_name        object\n",
       "field_of_study    object\n",
       "academic_field    object\n",
       "dtype: object"
      ]
     },
     "execution_count": 12,
     "metadata": {},
     "output_type": "execute_result"
    }
   ],
   "source": [
    "print(\"data type of each columns:\")\n",
    "complete_data.dtypes"
   ]
  },
  {
   "cell_type": "code",
   "execution_count": 13,
   "metadata": {},
   "outputs": [
    {
     "name": "stdout",
     "output_type": "stream",
     "text": [
      "descriptive statistics of numeric columns:\n"
     ]
    },
    {
     "data": {
      "text/html": [
       "<div>\n",
       "<style scoped>\n",
       "    .dataframe tbody tr th:only-of-type {\n",
       "        vertical-align: middle;\n",
       "    }\n",
       "\n",
       "    .dataframe tbody tr th {\n",
       "        vertical-align: top;\n",
       "    }\n",
       "\n",
       "    .dataframe thead th {\n",
       "        text-align: right;\n",
       "    }\n",
       "</style>\n",
       "<table border=\"1\" class=\"dataframe\">\n",
       "  <thead>\n",
       "    <tr style=\"text-align: right;\">\n",
       "      <th></th>\n",
       "      <th>level</th>\n",
       "      <th>level_name</th>\n",
       "      <th>field_of_study</th>\n",
       "      <th>academic_field</th>\n",
       "    </tr>\n",
       "  </thead>\n",
       "  <tbody>\n",
       "    <tr>\n",
       "      <th>count</th>\n",
       "      <td>123</td>\n",
       "      <td>123</td>\n",
       "      <td>123</td>\n",
       "      <td>123</td>\n",
       "    </tr>\n",
       "    <tr>\n",
       "      <th>unique</th>\n",
       "      <td>1</td>\n",
       "      <td>2</td>\n",
       "      <td>115</td>\n",
       "      <td>29</td>\n",
       "    </tr>\n",
       "    <tr>\n",
       "      <th>top</th>\n",
       "      <td>bachelor</td>\n",
       "      <td>bachelor</td>\n",
       "      <td>bachelor arts ba,sociology</td>\n",
       "      <td>business management</td>\n",
       "    </tr>\n",
       "    <tr>\n",
       "      <th>freq</th>\n",
       "      <td>123</td>\n",
       "      <td>120</td>\n",
       "      <td>2</td>\n",
       "      <td>17</td>\n",
       "    </tr>\n",
       "  </tbody>\n",
       "</table>\n",
       "</div>"
      ],
      "text/plain": [
       "           level level_name              field_of_study       academic_field\n",
       "count        123        123                         123                  123\n",
       "unique         1          2                         115                   29\n",
       "top     bachelor   bachelor  bachelor arts ba,sociology  business management\n",
       "freq         123        120                           2                   17"
      ]
     },
     "execution_count": 13,
     "metadata": {},
     "output_type": "execute_result"
    }
   ],
   "source": [
    "print(\"descriptive statistics of numeric columns:\")\n",
    "complete_data.describe()"
   ]
  }
 ],
 "metadata": {
  "kernelspec": {
   "display_name": "Python 3 (ipykernel)",
   "language": "python",
   "name": "python3"
  },
  "language_info": {
   "codemirror_mode": {
    "name": "ipython",
    "version": 3
   },
   "file_extension": ".py",
   "mimetype": "text/x-python",
   "name": "python",
   "nbconvert_exporter": "python",
   "pygments_lexer": "ipython3",
   "version": "3.8.10"
  }
 },
 "nbformat": 4,
 "nbformat_minor": 4
}
